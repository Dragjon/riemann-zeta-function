{
  "nbformat": 4,
  "nbformat_minor": 0,
  "metadata": {
    "colab": {
      "provenance": []
    },
    "kernelspec": {
      "name": "python3",
      "display_name": "Python 3"
    },
    "language_info": {
      "name": "python"
    }
  },
  "cells": [
    {
      "cell_type": "markdown",
      "source": [
        "# Reimann zeta ζ function calculator\n"
      ],
      "metadata": {
        "id": "xAIKqURwtY9O"
      }
    },
    {
      "cell_type": "markdown",
      "source": [
        "With finite terms"
      ],
      "metadata": {
        "id": "jhZrEcyRtgAI"
      }
    },
    {
      "cell_type": "code",
      "execution_count": null,
      "metadata": {
        "colab": {
          "base_uri": "https://localhost:8080/"
        },
        "id": "sAyX2_HPrBwK",
        "outputId": "625f920b-2e4b-49d8-d81d-a7335c1d0d72"
      },
      "outputs": [
        {
          "output_type": "stream",
          "name": "stdout",
          "text": [
            "Enter the value of s for the Riemann Zeta function: 2\n",
            "Enter the number of terms to use in the series expansion (e.g., 1000): 1000\n",
            "Zeta(2.0) = 1.6439345666815615\n"
          ]
        }
      ],
      "source": [
        "def zeta(s, terms=1000):\n",
        "    if s == 1:\n",
        "        return float('inf')\n",
        "    elif s < 1:\n",
        "        return None  # Riemann Zeta function is undefined for s <= 1\n",
        "\n",
        "    result = 0\n",
        "    for n in range(1, terms + 1):\n",
        "        result += 1 / (n ** s)\n",
        "\n",
        "    return result\n",
        "\n",
        "# Input from the user\n",
        "s = float(input(\"Enter the value of s for the Riemann Zeta function: \"))\n",
        "terms = int(input(\"Enter the number of terms to use in the series expansion (e.g., 1000): \"))\n",
        "\n",
        "result = zeta(s, terms)\n",
        "if result is not None:\n",
        "    print(f\"Zeta({s}) = {result}\")\n",
        "else:\n",
        "    print(\"The Riemann Zeta function is undefined for s <= 1.\")\n"
      ]
    },
    {
      "cell_type": "markdown",
      "source": [
        "With infinite terms and s > 1"
      ],
      "metadata": {
        "id": "Iqn-k9e4tv7A"
      }
    },
    {
      "cell_type": "code",
      "source": [
        "!pip install mpmath"
      ],
      "metadata": {
        "colab": {
          "base_uri": "https://localhost:8080/"
        },
        "id": "t3AM8wiJsbog",
        "outputId": "7223b509-328f-4e6d-98f5-9ee895d71bc0"
      },
      "execution_count": null,
      "outputs": [
        {
          "output_type": "stream",
          "name": "stdout",
          "text": [
            "Requirement already satisfied: mpmath in /usr/local/lib/python3.10/dist-packages (1.3.0)\n"
          ]
        }
      ]
    },
    {
      "cell_type": "code",
      "source": [
        "from mpmath import zeta\n",
        "\n",
        "s = input(\"Value of s for ζ(s): \")\n",
        "result = zeta(s)\n",
        "\n",
        "print(f\"ζ({s}) = {result}\")\n"
      ],
      "metadata": {
        "colab": {
          "base_uri": "https://localhost:8080/"
        },
        "id": "EzLhlAQSsOS5",
        "outputId": "9ecad27f-f8d7-4a36-ce8e-bb314f00c031"
      },
      "execution_count": null,
      "outputs": [
        {
          "output_type": "stream",
          "name": "stdout",
          "text": [
            "Value of s for ζ(s): 2\n",
            "ζ(2) = 1.64493406684823\n"
          ]
        }
      ]
    },
    {
      "cell_type": "markdown",
      "source": [
        "With infinite terms and (s > 1) + (s ⊆ 𝕀)\n",
        "\n"
      ],
      "metadata": {
        "id": "hX9kaYwWt7y2"
      }
    },
    {
      "cell_type": "code",
      "source": [
        "from mpmath import zeta, mp\n",
        "\n",
        "mp.dps = 15  # Set the desired precision (number of decimal places)\n",
        "\n",
        "s_real = float(input(\"Real part of s for ζ(s): \"))\n",
        "s_imag = float(input(\"Imaginary part of s for ζ(s): \"))\n",
        "\n",
        "s = complex(s_real, s_imag)\n",
        "result = zeta(s)\n",
        "\n",
        "print(f\"ζ({s}) = {result}\")\n"
      ],
      "metadata": {
        "colab": {
          "base_uri": "https://localhost:8080/"
        },
        "id": "R1nMTVkaslpO",
        "outputId": "7c96ab61-1346-4ab4-89b8-8f1c04682d28"
      },
      "execution_count": null,
      "outputs": [
        {
          "output_type": "stream",
          "name": "stdout",
          "text": [
            "Real part of s for ζ(s): 6\n",
            "Imaginary part of s for ζ(s): 9\n",
            "ζ((6+9j)) = (1.0145893951213 + 0.00128998684044838j)\n"
          ]
        }
      ]
    },
    {
      "cell_type": "code",
      "source": [],
      "metadata": {
        "id": "UEAOmJo_tJ0l"
      },
      "execution_count": null,
      "outputs": []
    }
  ]
}